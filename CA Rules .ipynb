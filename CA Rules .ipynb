{
 "cells": [
  {
   "cell_type": "markdown",
   "id": "7fee925a",
   "metadata": {},
   "source": [
    "In this section, we'll explain how Celluar Automata rules work, as well as what a paticular number means."
   ]
  },
  {
   "cell_type": "markdown",
   "id": "b0e85044",
   "metadata": {},
   "source": [
    "Firstly, there are many types of Cellular Automata(CA) but the most simipliest is a binary, nearnest-neighbor, one dimensional cellular automata.There are eight possible binary states for the three cells neighboring a particular cell, which means that there are 2^8 = 256 elementary CA, where each can be indexed with an 8-bit binary number.\n",
    "\n",
    "Therefore any Cellular Automata that has a rule number associated with it is an Elementary Cellular Automata.  "
   ]
  },
  {
   "cell_type": "markdown",
   "id": "3b7b07bb",
   "metadata": {},
   "source": [
    "![SegmentLocal](cellular-automate-rule-30.gif \"segment\")"
   ]
  },
  {
   "cell_type": "markdown",
   "id": "107b6dc2",
   "metadata": {},
   "source": [
    "The middle row shows that a rules number is calculated by its binary value of output. "
   ]
  }
 ],
 "metadata": {
  "kernelspec": {
   "display_name": "Python 3 (ipykernel)",
   "language": "python",
   "name": "python3"
  },
  "language_info": {
   "codemirror_mode": {
    "name": "ipython",
    "version": 3
   },
   "file_extension": ".py",
   "mimetype": "text/x-python",
   "name": "python",
   "nbconvert_exporter": "python",
   "pygments_lexer": "ipython3",
   "version": "3.9.7"
  }
 },
 "nbformat": 4,
 "nbformat_minor": 5
}
