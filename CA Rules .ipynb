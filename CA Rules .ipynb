{
 "cells": [
  {
   "cell_type": "markdown",
   "id": "1cae46e8",
   "metadata": {},
   "source": [
    "# Cellular Automata Rules"
   ]
  },
  {
   "cell_type": "markdown",
   "id": "7fee925a",
   "metadata": {},
   "source": [
    "### In this section, we'll explain how Celluar Automata rules work, as well as what a paticular number means."
   ]
  },
  {
   "cell_type": "markdown",
   "id": "b0e85044",
   "metadata": {},
   "source": [
    "Firstly, there are many types of Cellular Automata(CA) but the most simipliest is a Binary, Nearnest-Neighbor, One Dimensional cellular automata.\n",
    "\n",
    "Binary means that each cell can be one of two possible states, in this case either black or white. Nearest-Neighbor means the we look at all of the surrounding cells to determine its next cell state. Here we are only refering to the one on the left and one on the right,plus the reference cell, making three in total. If we were doing Two Nearest Neigbors, then it would be the two to the left and the two to the right, making five in total.\n",
    "\n",
    "There are eight possible binary states for the three cells that we are considering, which means that there are 2^8 = 256 elementary CA, where each can be indexed with an 8-bit binary number. These 256 cellular automata are generally referred to by their Wolfram code, a standard naming convention invented by Wolfram that gives each rule a number from 0 to 255."
   ]
  },
  {
   "cell_type": "markdown",
   "id": "3b7b07bb",
   "metadata": {},
   "source": [
    "![SegmentLocal](cellular-automate-rule-30.gif \"segment\")"
   ]
  },
  {
   "cell_type": "markdown",
   "id": "107b6dc2",
   "metadata": {},
   "source": [
    "The middle row shows that a rules number is calculated by the mapping of its three cell input to its one cell output (state of cell). "
   ]
  },
  {
   "cell_type": "code",
   "execution_count": null,
   "id": "d650650a",
   "metadata": {},
   "outputs": [],
   "source": []
  }
 ],
 "metadata": {
  "kernelspec": {
   "display_name": "Python 3 (ipykernel)",
   "language": "python",
   "name": "python3"
  },
  "language_info": {
   "codemirror_mode": {
    "name": "ipython",
    "version": 3
   },
   "file_extension": ".py",
   "mimetype": "text/x-python",
   "name": "python",
   "nbconvert_exporter": "python",
   "pygments_lexer": "ipython3",
   "version": "3.9.7"
  }
 },
 "nbformat": 4,
 "nbformat_minor": 5
}
